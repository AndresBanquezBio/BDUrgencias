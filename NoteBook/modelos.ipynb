{
 "cells": [
  {
   "cell_type": "code",
   "execution_count": 422,
   "metadata": {},
   "outputs": [],
   "source": [
    "import pandas as pd\n",
    "import matplotlib.pyplot as plt\n",
    "from sklearn import preprocessing as ps\n",
    "import numpy as np\n",
    "import datetime"
   ]
  },
  {
   "cell_type": "markdown",
   "metadata": {},
   "source": [
    "Lo primero que haremos será enfocarnos en la codificación de los datos"
   ]
  },
  {
   "cell_type": "code",
   "execution_count": 423,
   "metadata": {},
   "outputs": [
    {
     "name": "stderr",
     "output_type": "stream",
     "text": [
      "C:\\Users\\andre\\AppData\\Local\\Temp\\ipykernel_17656\\3697060408.py:1: DtypeWarning: Columns (6) have mixed types. Specify dtype option on import or set low_memory=False.\n",
      "  df = pd.read_csv('../BD_Limpia.csv')\n"
     ]
    }
   ],
   "source": [
    "df = pd.read_csv('../BD_Limpia.csv')"
   ]
  },
  {
   "cell_type": "markdown",
   "metadata": {},
   "source": [
    "Para ello primero vamos a ver cuales columnas hay que codificar (Aquellas que no sean numericas)\n",
    "Para esto tomaremos las que son tipo \"object\" ya que estas pueden ser strings, datetime, etc, el resto podrán ser flotantes, booleanos u otro tipo de valor que no es necesario codificar"
   ]
  },
  {
   "cell_type": "code",
   "execution_count": 424,
   "metadata": {},
   "outputs": [
    {
     "name": "stdout",
     "output_type": "stream",
     "text": [
      "DESCRIPCION\n",
      "Mes\n",
      "Tipo Egreso (INTERNACION)\n",
      "Paciente Modalidad Contrato\n",
      "Paciente Regimen Afiliacion\n",
      "Urg Fecha Ingreso\n",
      "Urg Fecha Triaje\n",
      "Urg Fecha Consulta F3\n",
      "Profesional Especialidad\n",
      "Dx Principal Tipo \n",
      "Dx Principal Cod\n",
      "Dx Principal Cod.1\n",
      "Dx Relacionado1 Cod\n",
      "Dx Relacionado2 Cod \n",
      "Dx Relacionado3 Cod\n",
      "Unidad\n",
      "Grupo Edad\n",
      "Paciente Sexo\n",
      "Clasificacion 1 Triaje \n",
      "Enfermeria \n",
      "Ubicacion  Urgencias\n",
      "Causa Externa  (Riesgo)\n",
      "Modalidad Atencion\n",
      "Ubicación Triaje\n",
      "Tiempo Duracion Diligenciamiento F3\n",
      "Triaje Re-clasificado\n",
      "Grupo Poblacional\n",
      "Pertenencia Etnica\n",
      "ALTO COSTO\n",
      "28\n"
     ]
    }
   ],
   "source": [
    "df2 = df.copy()\n",
    "j = 0\n",
    "for i in [i for i in df.columns.tolist()]:\n",
    "    if df[i].dtype == object:\n",
    "        print(i)\n",
    "        j+=1\n",
    "print(j)"
   ]
  },
  {
   "cell_type": "markdown",
   "metadata": {},
   "source": [
    "Ahora tomaremos uno por uno cada valor entregado aqui y se revisará su posible codificación"
   ]
  },
  {
   "cell_type": "code",
   "execution_count": 425,
   "metadata": {},
   "outputs": [
    {
     "data": {
      "text/plain": [
       "array(['URGENCIAS ADULTO', 'URGENCIAS PEDIATRICAS'], dtype=object)"
      ]
     },
     "execution_count": 425,
     "metadata": {},
     "output_type": "execute_result"
    }
   ],
   "source": [
    "df['DESCRIPCION'].unique()"
   ]
  },
  {
   "cell_type": "code",
   "execution_count": 426,
   "metadata": {},
   "outputs": [
    {
     "name": "stderr",
     "output_type": "stream",
     "text": [
      "C:\\Users\\andre\\AppData\\Local\\Temp\\ipykernel_17656\\1354844995.py:1: FutureWarning: A value is trying to be set on a copy of a DataFrame or Series through chained assignment using an inplace method.\n",
      "The behavior will change in pandas 3.0. This inplace method will never work because the intermediate object on which we are setting values always behaves as a copy.\n",
      "\n",
      "For example, when doing 'df[col].method(value, inplace=True)', try using 'df.method({col: value}, inplace=True)' or df[col] = df[col].method(value) instead, to perform the operation inplace on the original object.\n",
      "\n",
      "\n",
      "  df2['DESCRIPCION'].replace({'URGENCIAS ADULTO': 1, 'URGENCIAS PEDIATRICAS': 0}, inplace=True)\n",
      "C:\\Users\\andre\\AppData\\Local\\Temp\\ipykernel_17656\\1354844995.py:1: FutureWarning: Downcasting behavior in `replace` is deprecated and will be removed in a future version. To retain the old behavior, explicitly call `result.infer_objects(copy=False)`. To opt-in to the future behavior, set `pd.set_option('future.no_silent_downcasting', True)`\n",
      "  df2['DESCRIPCION'].replace({'URGENCIAS ADULTO': 1, 'URGENCIAS PEDIATRICAS': 0}, inplace=True)\n"
     ]
    }
   ],
   "source": [
    "df2['DESCRIPCION'].replace({'URGENCIAS ADULTO': 1, 'URGENCIAS PEDIATRICAS': 0}, inplace=True)"
   ]
  },
  {
   "cell_type": "code",
   "execution_count": 427,
   "metadata": {},
   "outputs": [
    {
     "data": {
      "text/plain": [
       "array(['No hospitalizacion', 'Hospitalizacion'], dtype=object)"
      ]
     },
     "execution_count": 427,
     "metadata": {},
     "output_type": "execute_result"
    }
   ],
   "source": [
    "df['Tipo Egreso (INTERNACION)'].unique()"
   ]
  },
  {
   "cell_type": "code",
   "execution_count": 428,
   "metadata": {},
   "outputs": [
    {
     "name": "stderr",
     "output_type": "stream",
     "text": [
      "C:\\Users\\andre\\AppData\\Local\\Temp\\ipykernel_17656\\673998892.py:1: FutureWarning: A value is trying to be set on a copy of a DataFrame or Series through chained assignment using an inplace method.\n",
      "The behavior will change in pandas 3.0. This inplace method will never work because the intermediate object on which we are setting values always behaves as a copy.\n",
      "\n",
      "For example, when doing 'df[col].method(value, inplace=True)', try using 'df.method({col: value}, inplace=True)' or df[col] = df[col].method(value) instead, to perform the operation inplace on the original object.\n",
      "\n",
      "\n",
      "  df2['Tipo Egreso (INTERNACION)'].replace({'No hospitalizacion': 1, 'Hospitalizacion': 0}, inplace=True)\n",
      "C:\\Users\\andre\\AppData\\Local\\Temp\\ipykernel_17656\\673998892.py:1: FutureWarning: Downcasting behavior in `replace` is deprecated and will be removed in a future version. To retain the old behavior, explicitly call `result.infer_objects(copy=False)`. To opt-in to the future behavior, set `pd.set_option('future.no_silent_downcasting', True)`\n",
      "  df2['Tipo Egreso (INTERNACION)'].replace({'No hospitalizacion': 1, 'Hospitalizacion': 0}, inplace=True)\n"
     ]
    }
   ],
   "source": [
    "df2['Tipo Egreso (INTERNACION)'].replace({'No hospitalizacion': 1, 'Hospitalizacion': 0}, inplace=True)"
   ]
  },
  {
   "cell_type": "code",
   "execution_count": 429,
   "metadata": {},
   "outputs": [
    {
     "data": {
      "text/plain": [
       "array(['URGENCIAS', 'REMITIDO', 'REMITIDOS'], dtype=object)"
      ]
     },
     "execution_count": 429,
     "metadata": {},
     "output_type": "execute_result"
    }
   ],
   "source": [
    "df[\"Modalidad Atencion\"].unique() # Remitido y remitidos son lo mismo"
   ]
  },
  {
   "cell_type": "code",
   "execution_count": 430,
   "metadata": {},
   "outputs": [
    {
     "name": "stderr",
     "output_type": "stream",
     "text": [
      "C:\\Users\\andre\\AppData\\Local\\Temp\\ipykernel_17656\\3878965590.py:1: FutureWarning: A value is trying to be set on a copy of a DataFrame or Series through chained assignment using an inplace method.\n",
      "The behavior will change in pandas 3.0. This inplace method will never work because the intermediate object on which we are setting values always behaves as a copy.\n",
      "\n",
      "For example, when doing 'df[col].method(value, inplace=True)', try using 'df.method({col: value}, inplace=True)' or df[col] = df[col].method(value) instead, to perform the operation inplace on the original object.\n",
      "\n",
      "\n",
      "  df2[\"Modalidad Atencion\"].replace({'URGENCIAS': 1, 'REMITIDO': 0, 'REMITIDOS': 0}, inplace=True)\n",
      "C:\\Users\\andre\\AppData\\Local\\Temp\\ipykernel_17656\\3878965590.py:1: FutureWarning: Downcasting behavior in `replace` is deprecated and will be removed in a future version. To retain the old behavior, explicitly call `result.infer_objects(copy=False)`. To opt-in to the future behavior, set `pd.set_option('future.no_silent_downcasting', True)`\n",
      "  df2[\"Modalidad Atencion\"].replace({'URGENCIAS': 1, 'REMITIDO': 0, 'REMITIDOS': 0}, inplace=True)\n"
     ]
    }
   ],
   "source": [
    "df2[\"Modalidad Atencion\"].replace({'URGENCIAS': 1, 'REMITIDO': 0, 'REMITIDOS': 0}, inplace=True)"
   ]
  },
  {
   "cell_type": "code",
   "execution_count": 431,
   "metadata": {},
   "outputs": [
    {
     "data": {
      "text/plain": [
       "2434"
      ]
     },
     "execution_count": 431,
     "metadata": {},
     "output_type": "execute_result"
    }
   ],
   "source": [
    "len(df[\"Dx Principal Cod\"].unique()) \n",
    "# Al ser tan grande, se codificará con un valor diferente para cada único, \n",
    "# pues algunos podrian presentarse mas o tener mas peso"
   ]
  },
  {
   "cell_type": "code",
   "execution_count": 432,
   "metadata": {},
   "outputs": [],
   "source": [
    "encoder=ps.LabelEncoder()\n",
    "df2[\"Dx Principal Cod\"]=encoder.fit_transform(df2[\"Dx Principal Cod\"])"
   ]
  },
  {
   "cell_type": "markdown",
   "metadata": {},
   "source": [
    "Ahora esto nos ha entregado las 2400 enfermedades en numeros en vez de códigos, se evaluará posteriormente la viabilidad de hacerlo de esta manera, ya que supone un peso importante en la matriz de correlaciones."
   ]
  },
  {
   "cell_type": "markdown",
   "metadata": {},
   "source": [
    "Para los diagnósticos secundarios se pondrá un 1 en caso de existir uno, y un 0 en caso de que no, se sumarán posteriormente en una única variable."
   ]
  },
  {
   "cell_type": "code",
   "execution_count": 433,
   "metadata": {},
   "outputs": [
    {
     "name": "stderr",
     "output_type": "stream",
     "text": [
      "C:\\Users\\andre\\AppData\\Local\\Temp\\ipykernel_17656\\2403177839.py:8: FutureWarning: DataFrame.applymap has been deprecated. Use DataFrame.map instead.\n",
      "  df2[varabiesl] = df2[varabiesl].applymap(ifnostringis0)\n"
     ]
    },
    {
     "data": {
      "text/plain": [
       "array([0, 1, 2, 3], dtype=int64)"
      ]
     },
     "execution_count": 433,
     "metadata": {},
     "output_type": "execute_result"
    }
   ],
   "source": [
    "varabiesl = ['Dx Relacionado3 Cod', 'Dx Relacionado2 Cod ', 'Dx Relacionado1 Cod']\n",
    "\n",
    "def ifnostringis0(aver):\n",
    "    if isinstance(aver,str):\n",
    "        return 1\n",
    "    else:\n",
    "        return 0\n",
    "df2[varabiesl] = df2[varabiesl].applymap(ifnostringis0)\n",
    "df2['Dx Relacionado3 Cod'].unique()\n",
    "df2['DxRelacionados'] = df2['Dx Relacionado3 Cod'] + df2['Dx Relacionado1 Cod'] + df2['Dx Relacionado2 Cod ']\n",
    "df2 = df2.drop(columns=['Dx Relacionado3 Cod', 'Dx Relacionado1 Cod', 'Dx Relacionado2 Cod ', 'Dx Principal Cod.1', \"Profesional Especialidad\"])\n",
    "df2['DxRelacionados'].unique()"
   ]
  },
  {
   "cell_type": "code",
   "execution_count": 434,
   "metadata": {},
   "outputs": [
    {
     "data": {
      "text/plain": [
       "array(['ENERO', 'FEBRERO', 'MARZO', 'ABRIL', 'MAYO', 'JUNIO', 'JULIO',\n",
       "       'AGOSTO', 'SEPTIEMBRE', 'OCTUBRE', 'NOVIEMBRE', 'DICIEMBRE'],\n",
       "      dtype=object)"
      ]
     },
     "execution_count": 434,
     "metadata": {},
     "output_type": "execute_result"
    }
   ],
   "source": [
    "df[\"Mes\"].unique()"
   ]
  },
  {
   "cell_type": "code",
   "execution_count": 435,
   "metadata": {},
   "outputs": [
    {
     "name": "stderr",
     "output_type": "stream",
     "text": [
      "C:\\Users\\andre\\AppData\\Local\\Temp\\ipykernel_17656\\399413001.py:3: FutureWarning: A value is trying to be set on a copy of a DataFrame or Series through chained assignment using an inplace method.\n",
      "The behavior will change in pandas 3.0. This inplace method will never work because the intermediate object on which we are setting values always behaves as a copy.\n",
      "\n",
      "For example, when doing 'df[col].method(value, inplace=True)', try using 'df.method({col: value}, inplace=True)' or df[col] = df[col].method(value) instead, to perform the operation inplace on the original object.\n",
      "\n",
      "\n",
      "  df2[\"Mes\"].replace(codificacion, inplace = True)\n",
      "C:\\Users\\andre\\AppData\\Local\\Temp\\ipykernel_17656\\399413001.py:3: FutureWarning: Downcasting behavior in `replace` is deprecated and will be removed in a future version. To retain the old behavior, explicitly call `result.infer_objects(copy=False)`. To opt-in to the future behavior, set `pd.set_option('future.no_silent_downcasting', True)`\n",
      "  df2[\"Mes\"].replace(codificacion, inplace = True)\n"
     ]
    }
   ],
   "source": [
    "meses = ['ENERO', 'FEBRERO', 'MARZO', 'ABRIL', 'MAYO', 'JUNIO', 'JULIO','AGOSTO', 'SEPTIEMBRE', 'OCTUBRE', 'NOVIEMBRE', 'DICIEMBRE']\n",
    "codificacion = {j:i+1 for i,j in enumerate(meses)}\n",
    "df2[\"Mes\"].replace(codificacion, inplace = True)"
   ]
  },
  {
   "cell_type": "code",
   "execution_count": 436,
   "metadata": {},
   "outputs": [
    {
     "name": "stderr",
     "output_type": "stream",
     "text": [
      "C:\\Users\\andre\\AppData\\Local\\Temp\\ipykernel_17656\\2211830499.py:10: FutureWarning: DataFrame.applymap has been deprecated. Use DataFrame.map instead.\n",
      "  df2[confecha] = df2[confecha].applymap(todoASegundos)\n"
     ]
    },
    {
     "data": {
      "text/html": [
       "<div>\n",
       "<style scoped>\n",
       "    .dataframe tbody tr th:only-of-type {\n",
       "        vertical-align: middle;\n",
       "    }\n",
       "\n",
       "    .dataframe tbody tr th {\n",
       "        vertical-align: top;\n",
       "    }\n",
       "\n",
       "    .dataframe thead th {\n",
       "        text-align: right;\n",
       "    }\n",
       "</style>\n",
       "<table border=\"1\" class=\"dataframe\">\n",
       "  <thead>\n",
       "    <tr style=\"text-align: right;\">\n",
       "      <th></th>\n",
       "      <th>Urg Fecha Ingreso</th>\n",
       "      <th>Urg Fecha Triaje</th>\n",
       "      <th>Urg Fecha Consulta F3</th>\n",
       "    </tr>\n",
       "  </thead>\n",
       "  <tbody>\n",
       "    <tr>\n",
       "      <th>0</th>\n",
       "      <td>52589</td>\n",
       "      <td>51814</td>\n",
       "      <td>55153</td>\n",
       "    </tr>\n",
       "    <tr>\n",
       "      <th>1</th>\n",
       "      <td>66727</td>\n",
       "      <td>66281</td>\n",
       "      <td>71011</td>\n",
       "    </tr>\n",
       "    <tr>\n",
       "      <th>2</th>\n",
       "      <td>40756</td>\n",
       "      <td>0</td>\n",
       "      <td>61549</td>\n",
       "    </tr>\n",
       "    <tr>\n",
       "      <th>3</th>\n",
       "      <td>38449</td>\n",
       "      <td>37045</td>\n",
       "      <td>43540</td>\n",
       "    </tr>\n",
       "    <tr>\n",
       "      <th>4</th>\n",
       "      <td>72274</td>\n",
       "      <td>72038</td>\n",
       "      <td>73021</td>\n",
       "    </tr>\n",
       "    <tr>\n",
       "      <th>...</th>\n",
       "      <td>...</td>\n",
       "      <td>...</td>\n",
       "      <td>...</td>\n",
       "    </tr>\n",
       "    <tr>\n",
       "      <th>36663</th>\n",
       "      <td>0</td>\n",
       "      <td>10841</td>\n",
       "      <td>13016</td>\n",
       "    </tr>\n",
       "    <tr>\n",
       "      <th>36664</th>\n",
       "      <td>0</td>\n",
       "      <td>7847</td>\n",
       "      <td>12244</td>\n",
       "    </tr>\n",
       "    <tr>\n",
       "      <th>36665</th>\n",
       "      <td>0</td>\n",
       "      <td>33812</td>\n",
       "      <td>35849</td>\n",
       "    </tr>\n",
       "    <tr>\n",
       "      <th>36666</th>\n",
       "      <td>0</td>\n",
       "      <td>40942</td>\n",
       "      <td>43845</td>\n",
       "    </tr>\n",
       "    <tr>\n",
       "      <th>36667</th>\n",
       "      <td>0</td>\n",
       "      <td>46461</td>\n",
       "      <td>51471</td>\n",
       "    </tr>\n",
       "  </tbody>\n",
       "</table>\n",
       "<p>36668 rows × 3 columns</p>\n",
       "</div>"
      ],
      "text/plain": [
       "       Urg Fecha Ingreso  Urg Fecha Triaje  Urg Fecha Consulta F3\n",
       "0                  52589             51814                  55153\n",
       "1                  66727             66281                  71011\n",
       "2                  40756                 0                  61549\n",
       "3                  38449             37045                  43540\n",
       "4                  72274             72038                  73021\n",
       "...                  ...               ...                    ...\n",
       "36663                  0             10841                  13016\n",
       "36664                  0              7847                  12244\n",
       "36665                  0             33812                  35849\n",
       "36666                  0             40942                  43845\n",
       "36667                  0             46461                  51471\n",
       "\n",
       "[36668 rows x 3 columns]"
      ]
     },
     "execution_count": 436,
     "metadata": {},
     "output_type": "execute_result"
    }
   ],
   "source": [
    "confecha = [\"Urg Fecha Ingreso\", 'Urg Fecha Triaje', 'Urg Fecha Consulta F3']\n",
    "def todoASegundos(datetaim):\n",
    "    try:\n",
    "        datetaim = datetaim[11:19].split(':')\n",
    "        segundos = int(datetaim[0])*3600+int(datetaim[1])*60+int(datetaim[2])\n",
    "        return segundos\n",
    "    except TypeError:\n",
    "        return 0\n",
    "\n",
    "df2[confecha] = df2[confecha].applymap(todoASegundos)\n",
    "df2[confecha]"
   ]
  },
  {
   "cell_type": "code",
   "execution_count": 437,
   "metadata": {},
   "outputs": [
    {
     "data": {
      "text/plain": [
       "array(['NUEVO', 'REPETIDO'], dtype=object)"
      ]
     },
     "execution_count": 437,
     "metadata": {},
     "output_type": "execute_result"
    }
   ],
   "source": [
    "df[\"Dx Principal Tipo \"].unique()"
   ]
  },
  {
   "cell_type": "code",
   "execution_count": 438,
   "metadata": {},
   "outputs": [
    {
     "name": "stderr",
     "output_type": "stream",
     "text": [
      "C:\\Users\\andre\\AppData\\Local\\Temp\\ipykernel_17656\\1481903230.py:1: FutureWarning: A value is trying to be set on a copy of a DataFrame or Series through chained assignment using an inplace method.\n",
      "The behavior will change in pandas 3.0. This inplace method will never work because the intermediate object on which we are setting values always behaves as a copy.\n",
      "\n",
      "For example, when doing 'df[col].method(value, inplace=True)', try using 'df.method({col: value}, inplace=True)' or df[col] = df[col].method(value) instead, to perform the operation inplace on the original object.\n",
      "\n",
      "\n",
      "  df2[\"Dx Principal Tipo \"].replace({'NUEVO': 1, 'REPETIDO': 0}, inplace=True)\n",
      "C:\\Users\\andre\\AppData\\Local\\Temp\\ipykernel_17656\\1481903230.py:1: FutureWarning: Downcasting behavior in `replace` is deprecated and will be removed in a future version. To retain the old behavior, explicitly call `result.infer_objects(copy=False)`. To opt-in to the future behavior, set `pd.set_option('future.no_silent_downcasting', True)`\n",
      "  df2[\"Dx Principal Tipo \"].replace({'NUEVO': 1, 'REPETIDO': 0}, inplace=True)\n"
     ]
    }
   ],
   "source": [
    "df2[\"Dx Principal Tipo \"].replace({'NUEVO': 1, 'REPETIDO': 0}, inplace=True)"
   ]
  },
  {
   "cell_type": "code",
   "execution_count": 439,
   "metadata": {},
   "outputs": [],
   "source": [
    "df[\"ALTO COSTO\"].unique() # PARA ESTE SE PONDRÁ 1 SI ES STRING Y 0 SI NO, \n",
    "#YA QUE SI ES STRING ES UNA ENFERMEDADE DE ALTO COSTO\n",
    "df2[\"ALTO COSTO\"] = df2[\"ALTO COSTO\"].apply(ifnostringis0)"
   ]
  },
  {
   "cell_type": "code",
   "execution_count": 440,
   "metadata": {},
   "outputs": [
    {
     "data": {
      "text/plain": [
       "array(['FEMENINO', 'MASCULINO'], dtype=object)"
      ]
     },
     "execution_count": 440,
     "metadata": {},
     "output_type": "execute_result"
    }
   ],
   "source": [
    "df[\"Paciente Sexo\"].unique()"
   ]
  },
  {
   "cell_type": "code",
   "execution_count": 441,
   "metadata": {},
   "outputs": [
    {
     "name": "stderr",
     "output_type": "stream",
     "text": [
      "C:\\Users\\andre\\AppData\\Local\\Temp\\ipykernel_17656\\928752363.py:1: FutureWarning: A value is trying to be set on a copy of a DataFrame or Series through chained assignment using an inplace method.\n",
      "The behavior will change in pandas 3.0. This inplace method will never work because the intermediate object on which we are setting values always behaves as a copy.\n",
      "\n",
      "For example, when doing 'df[col].method(value, inplace=True)', try using 'df.method({col: value}, inplace=True)' or df[col] = df[col].method(value) instead, to perform the operation inplace on the original object.\n",
      "\n",
      "\n",
      "  df2[\"Paciente Sexo\"].replace({'FEMENINO': 0, 'MASCULINO': 1}, inplace=True)\n",
      "C:\\Users\\andre\\AppData\\Local\\Temp\\ipykernel_17656\\928752363.py:1: FutureWarning: Downcasting behavior in `replace` is deprecated and will be removed in a future version. To retain the old behavior, explicitly call `result.infer_objects(copy=False)`. To opt-in to the future behavior, set `pd.set_option('future.no_silent_downcasting', True)`\n",
      "  df2[\"Paciente Sexo\"].replace({'FEMENINO': 0, 'MASCULINO': 1}, inplace=True)\n"
     ]
    }
   ],
   "source": [
    "df2[\"Paciente Sexo\"].replace({'FEMENINO': 0, 'MASCULINO': 1}, inplace=True)"
   ]
  },
  {
   "cell_type": "markdown",
   "metadata": {},
   "source": [
    "Ahora se ejecutarán todas las que se hagan con one-hot-encoding"
   ]
  },
  {
   "cell_type": "code",
   "execution_count": 442,
   "metadata": {},
   "outputs": [
    {
     "data": {
      "text/html": [
       "<div>\n",
       "<style scoped>\n",
       "    .dataframe tbody tr th:only-of-type {\n",
       "        vertical-align: middle;\n",
       "    }\n",
       "\n",
       "    .dataframe tbody tr th {\n",
       "        vertical-align: top;\n",
       "    }\n",
       "\n",
       "    .dataframe thead th {\n",
       "        text-align: right;\n",
       "    }\n",
       "</style>\n",
       "<table border=\"1\" class=\"dataframe\">\n",
       "  <thead>\n",
       "    <tr style=\"text-align: right;\">\n",
       "      <th></th>\n",
       "      <th>DESCRIPCION</th>\n",
       "      <th>Mes</th>\n",
       "      <th>Tipo Egreso (INTERNACION)</th>\n",
       "      <th>Paciente Entidad Responsable Pago</th>\n",
       "      <th>Urg Fecha Ingreso</th>\n",
       "      <th>Urg Fecha Triaje</th>\n",
       "      <th>Urg Fecha Consulta F3</th>\n",
       "      <th>Minutos (Camara - F3)</th>\n",
       "      <th>Urg Demora1 Consulta (Minutos)</th>\n",
       "      <th>Urg Demora Triaje (Minutos)\\n</th>\n",
       "      <th>...</th>\n",
       "      <th>Grupo Edad_5-9</th>\n",
       "      <th>Grupo Edad_50-54</th>\n",
       "      <th>Grupo Edad_55-59</th>\n",
       "      <th>Grupo Edad_60-64</th>\n",
       "      <th>Grupo Edad_65-69</th>\n",
       "      <th>Grupo Edad_70-74</th>\n",
       "      <th>Grupo Edad_75-79</th>\n",
       "      <th>Grupo Edad_80-84</th>\n",
       "      <th>Grupo Edad_85-89</th>\n",
       "      <th>Grupo Edad_&gt; 90</th>\n",
       "    </tr>\n",
       "  </thead>\n",
       "  <tbody>\n",
       "    <tr>\n",
       "      <th>0</th>\n",
       "      <td>1</td>\n",
       "      <td>1</td>\n",
       "      <td>1</td>\n",
       "      <td>5</td>\n",
       "      <td>52589</td>\n",
       "      <td>51814</td>\n",
       "      <td>55153</td>\n",
       "      <td>65.133333</td>\n",
       "      <td>35.133333</td>\n",
       "      <td>9.466667</td>\n",
       "      <td>...</td>\n",
       "      <td>False</td>\n",
       "      <td>False</td>\n",
       "      <td>False</td>\n",
       "      <td>True</td>\n",
       "      <td>False</td>\n",
       "      <td>False</td>\n",
       "      <td>False</td>\n",
       "      <td>False</td>\n",
       "      <td>False</td>\n",
       "      <td>False</td>\n",
       "    </tr>\n",
       "    <tr>\n",
       "      <th>1</th>\n",
       "      <td>1</td>\n",
       "      <td>1</td>\n",
       "      <td>1</td>\n",
       "      <td>65</td>\n",
       "      <td>66727</td>\n",
       "      <td>66281</td>\n",
       "      <td>71011</td>\n",
       "      <td>82.050000</td>\n",
       "      <td>52.050000</td>\n",
       "      <td>3.216667</td>\n",
       "      <td>...</td>\n",
       "      <td>False</td>\n",
       "      <td>False</td>\n",
       "      <td>False</td>\n",
       "      <td>True</td>\n",
       "      <td>False</td>\n",
       "      <td>False</td>\n",
       "      <td>False</td>\n",
       "      <td>False</td>\n",
       "      <td>False</td>\n",
       "      <td>False</td>\n",
       "    </tr>\n",
       "    <tr>\n",
       "      <th>2</th>\n",
       "      <td>1</td>\n",
       "      <td>1</td>\n",
       "      <td>0</td>\n",
       "      <td>48</td>\n",
       "      <td>40756</td>\n",
       "      <td>0</td>\n",
       "      <td>61549</td>\n",
       "      <td>0.000000</td>\n",
       "      <td>0.000000</td>\n",
       "      <td>0.000000</td>\n",
       "      <td>...</td>\n",
       "      <td>False</td>\n",
       "      <td>False</td>\n",
       "      <td>False</td>\n",
       "      <td>False</td>\n",
       "      <td>False</td>\n",
       "      <td>False</td>\n",
       "      <td>True</td>\n",
       "      <td>False</td>\n",
       "      <td>False</td>\n",
       "      <td>False</td>\n",
       "    </tr>\n",
       "    <tr>\n",
       "      <th>3</th>\n",
       "      <td>1</td>\n",
       "      <td>1</td>\n",
       "      <td>0</td>\n",
       "      <td>19</td>\n",
       "      <td>38449</td>\n",
       "      <td>37045</td>\n",
       "      <td>43540</td>\n",
       "      <td>116.850000</td>\n",
       "      <td>86.850000</td>\n",
       "      <td>8.600000</td>\n",
       "      <td>...</td>\n",
       "      <td>False</td>\n",
       "      <td>False</td>\n",
       "      <td>False</td>\n",
       "      <td>False</td>\n",
       "      <td>False</td>\n",
       "      <td>True</td>\n",
       "      <td>False</td>\n",
       "      <td>False</td>\n",
       "      <td>False</td>\n",
       "      <td>False</td>\n",
       "    </tr>\n",
       "    <tr>\n",
       "      <th>4</th>\n",
       "      <td>0</td>\n",
       "      <td>1</td>\n",
       "      <td>1</td>\n",
       "      <td>48</td>\n",
       "      <td>72274</td>\n",
       "      <td>72038</td>\n",
       "      <td>73021</td>\n",
       "      <td>21.450000</td>\n",
       "      <td>21.450000</td>\n",
       "      <td>5.083333</td>\n",
       "      <td>...</td>\n",
       "      <td>True</td>\n",
       "      <td>False</td>\n",
       "      <td>False</td>\n",
       "      <td>False</td>\n",
       "      <td>False</td>\n",
       "      <td>False</td>\n",
       "      <td>False</td>\n",
       "      <td>False</td>\n",
       "      <td>False</td>\n",
       "      <td>False</td>\n",
       "    </tr>\n",
       "    <tr>\n",
       "      <th>...</th>\n",
       "      <td>...</td>\n",
       "      <td>...</td>\n",
       "      <td>...</td>\n",
       "      <td>...</td>\n",
       "      <td>...</td>\n",
       "      <td>...</td>\n",
       "      <td>...</td>\n",
       "      <td>...</td>\n",
       "      <td>...</td>\n",
       "      <td>...</td>\n",
       "      <td>...</td>\n",
       "      <td>...</td>\n",
       "      <td>...</td>\n",
       "      <td>...</td>\n",
       "      <td>...</td>\n",
       "      <td>...</td>\n",
       "      <td>...</td>\n",
       "      <td>...</td>\n",
       "      <td>...</td>\n",
       "      <td>...</td>\n",
       "      <td>...</td>\n",
       "    </tr>\n",
       "    <tr>\n",
       "      <th>36663</th>\n",
       "      <td>1</td>\n",
       "      <td>12</td>\n",
       "      <td>1</td>\n",
       "      <td>65</td>\n",
       "      <td>0</td>\n",
       "      <td>10841</td>\n",
       "      <td>13016</td>\n",
       "      <td>50.133333</td>\n",
       "      <td>20.133333</td>\n",
       "      <td>13.883333</td>\n",
       "      <td>...</td>\n",
       "      <td>False</td>\n",
       "      <td>False</td>\n",
       "      <td>False</td>\n",
       "      <td>False</td>\n",
       "      <td>False</td>\n",
       "      <td>False</td>\n",
       "      <td>False</td>\n",
       "      <td>False</td>\n",
       "      <td>False</td>\n",
       "      <td>False</td>\n",
       "    </tr>\n",
       "    <tr>\n",
       "      <th>36664</th>\n",
       "      <td>1</td>\n",
       "      <td>12</td>\n",
       "      <td>0</td>\n",
       "      <td>4</td>\n",
       "      <td>0</td>\n",
       "      <td>7847</td>\n",
       "      <td>12244</td>\n",
       "      <td>0.000000</td>\n",
       "      <td>0.000000</td>\n",
       "      <td>0.000000</td>\n",
       "      <td>...</td>\n",
       "      <td>False</td>\n",
       "      <td>False</td>\n",
       "      <td>False</td>\n",
       "      <td>False</td>\n",
       "      <td>False</td>\n",
       "      <td>False</td>\n",
       "      <td>False</td>\n",
       "      <td>False</td>\n",
       "      <td>True</td>\n",
       "      <td>False</td>\n",
       "    </tr>\n",
       "    <tr>\n",
       "      <th>36665</th>\n",
       "      <td>1</td>\n",
       "      <td>12</td>\n",
       "      <td>1</td>\n",
       "      <td>18</td>\n",
       "      <td>0</td>\n",
       "      <td>33812</td>\n",
       "      <td>35849</td>\n",
       "      <td>40.900000</td>\n",
       "      <td>10.900000</td>\n",
       "      <td>6.950000</td>\n",
       "      <td>...</td>\n",
       "      <td>False</td>\n",
       "      <td>True</td>\n",
       "      <td>False</td>\n",
       "      <td>False</td>\n",
       "      <td>False</td>\n",
       "      <td>False</td>\n",
       "      <td>False</td>\n",
       "      <td>False</td>\n",
       "      <td>False</td>\n",
       "      <td>False</td>\n",
       "    </tr>\n",
       "    <tr>\n",
       "      <th>36666</th>\n",
       "      <td>1</td>\n",
       "      <td>12</td>\n",
       "      <td>1</td>\n",
       "      <td>18</td>\n",
       "      <td>0</td>\n",
       "      <td>40942</td>\n",
       "      <td>43845</td>\n",
       "      <td>0.000000</td>\n",
       "      <td>0.000000</td>\n",
       "      <td>0.000000</td>\n",
       "      <td>...</td>\n",
       "      <td>False</td>\n",
       "      <td>True</td>\n",
       "      <td>False</td>\n",
       "      <td>False</td>\n",
       "      <td>False</td>\n",
       "      <td>False</td>\n",
       "      <td>False</td>\n",
       "      <td>False</td>\n",
       "      <td>False</td>\n",
       "      <td>False</td>\n",
       "    </tr>\n",
       "    <tr>\n",
       "      <th>36667</th>\n",
       "      <td>1</td>\n",
       "      <td>12</td>\n",
       "      <td>1</td>\n",
       "      <td>48</td>\n",
       "      <td>0</td>\n",
       "      <td>46461</td>\n",
       "      <td>51471</td>\n",
       "      <td>90.266667</td>\n",
       "      <td>60.266667</td>\n",
       "      <td>6.766667</td>\n",
       "      <td>...</td>\n",
       "      <td>False</td>\n",
       "      <td>True</td>\n",
       "      <td>False</td>\n",
       "      <td>False</td>\n",
       "      <td>False</td>\n",
       "      <td>False</td>\n",
       "      <td>False</td>\n",
       "      <td>False</td>\n",
       "      <td>False</td>\n",
       "      <td>False</td>\n",
       "    </tr>\n",
       "  </tbody>\n",
       "</table>\n",
       "<p>36668 rows × 58 columns</p>\n",
       "</div>"
      ],
      "text/plain": [
       "       DESCRIPCION  Mes  Tipo Egreso (INTERNACION)  \\\n",
       "0                1    1                          1   \n",
       "1                1    1                          1   \n",
       "2                1    1                          0   \n",
       "3                1    1                          0   \n",
       "4                0    1                          1   \n",
       "...            ...  ...                        ...   \n",
       "36663            1   12                          1   \n",
       "36664            1   12                          0   \n",
       "36665            1   12                          1   \n",
       "36666            1   12                          1   \n",
       "36667            1   12                          1   \n",
       "\n",
       "       Paciente Entidad Responsable Pago  Urg Fecha Ingreso  Urg Fecha Triaje  \\\n",
       "0                                      5              52589             51814   \n",
       "1                                     65              66727             66281   \n",
       "2                                     48              40756                 0   \n",
       "3                                     19              38449             37045   \n",
       "4                                     48              72274             72038   \n",
       "...                                  ...                ...               ...   \n",
       "36663                                 65                  0             10841   \n",
       "36664                                  4                  0              7847   \n",
       "36665                                 18                  0             33812   \n",
       "36666                                 18                  0             40942   \n",
       "36667                                 48                  0             46461   \n",
       "\n",
       "       Urg Fecha Consulta F3  Minutos (Camara - F3)  \\\n",
       "0                      55153              65.133333   \n",
       "1                      71011              82.050000   \n",
       "2                      61549               0.000000   \n",
       "3                      43540             116.850000   \n",
       "4                      73021              21.450000   \n",
       "...                      ...                    ...   \n",
       "36663                  13016              50.133333   \n",
       "36664                  12244               0.000000   \n",
       "36665                  35849              40.900000   \n",
       "36666                  43845               0.000000   \n",
       "36667                  51471              90.266667   \n",
       "\n",
       "       Urg Demora1 Consulta (Minutos)  Urg Demora Triaje (Minutos)\\n  ...  \\\n",
       "0                           35.133333                       9.466667  ...   \n",
       "1                           52.050000                       3.216667  ...   \n",
       "2                            0.000000                       0.000000  ...   \n",
       "3                           86.850000                       8.600000  ...   \n",
       "4                           21.450000                       5.083333  ...   \n",
       "...                               ...                            ...  ...   \n",
       "36663                       20.133333                      13.883333  ...   \n",
       "36664                        0.000000                       0.000000  ...   \n",
       "36665                       10.900000                       6.950000  ...   \n",
       "36666                        0.000000                       0.000000  ...   \n",
       "36667                       60.266667                       6.766667  ...   \n",
       "\n",
       "       Grupo Edad_5-9  Grupo Edad_50-54  Grupo Edad_55-59  Grupo Edad_60-64  \\\n",
       "0               False             False             False              True   \n",
       "1               False             False             False              True   \n",
       "2               False             False             False             False   \n",
       "3               False             False             False             False   \n",
       "4                True             False             False             False   \n",
       "...               ...               ...               ...               ...   \n",
       "36663           False             False             False             False   \n",
       "36664           False             False             False             False   \n",
       "36665           False              True             False             False   \n",
       "36666           False              True             False             False   \n",
       "36667           False              True             False             False   \n",
       "\n",
       "      Grupo Edad_65-69  Grupo Edad_70-74 Grupo Edad_75-79 Grupo Edad_80-84  \\\n",
       "0                False             False            False            False   \n",
       "1                False             False            False            False   \n",
       "2                False             False             True            False   \n",
       "3                False              True            False            False   \n",
       "4                False             False            False            False   \n",
       "...                ...               ...              ...              ...   \n",
       "36663            False             False            False            False   \n",
       "36664            False             False            False            False   \n",
       "36665            False             False            False            False   \n",
       "36666            False             False            False            False   \n",
       "36667            False             False            False            False   \n",
       "\n",
       "      Grupo Edad_85-89  Grupo Edad_> 90  \n",
       "0                False            False  \n",
       "1                False            False  \n",
       "2                False            False  \n",
       "3                False            False  \n",
       "4                False            False  \n",
       "...                ...              ...  \n",
       "36663            False            False  \n",
       "36664             True            False  \n",
       "36665            False            False  \n",
       "36666            False            False  \n",
       "36667            False            False  \n",
       "\n",
       "[36668 rows x 58 columns]"
      ]
     },
     "execution_count": 442,
     "metadata": {},
     "output_type": "execute_result"
    }
   ],
   "source": [
    "df2 = pd.get_dummies(df2, columns=[\"Paciente Modalidad Contrato\", \"Paciente Regimen Afiliacion\", \"Grupo Edad\"])\n",
    "df2"
   ]
  },
  {
   "cell_type": "code",
   "execution_count": 443,
   "metadata": {},
   "outputs": [
    {
     "name": "stdout",
     "output_type": "stream",
     "text": [
      "Unidad\n",
      "Clasificacion 1 Triaje \n",
      "Enfermeria \n",
      "Ubicacion  Urgencias\n",
      "Causa Externa  (Riesgo)\n",
      "Ubicación Triaje\n",
      "Tiempo Duracion Diligenciamiento F3\n",
      "Triaje Re-clasificado\n",
      "Grupo Poblacional\n",
      "Pertenencia Etnica\n",
      "9\n"
     ]
    }
   ],
   "source": [
    "j = 0\n",
    "for i in [i for i in df2.columns.tolist()]:\n",
    "    if df2[i].dtype == object:\n",
    "        print(i)\n",
    "        j+=1\n",
    "print(j)"
   ]
  }
 ],
 "metadata": {
  "kernelspec": {
   "display_name": "Python 3",
   "language": "python",
   "name": "python3"
  },
  "language_info": {
   "codemirror_mode": {
    "name": "ipython",
    "version": 3
   },
   "file_extension": ".py",
   "mimetype": "text/x-python",
   "name": "python",
   "nbconvert_exporter": "python",
   "pygments_lexer": "ipython3",
   "version": "3.12.1"
  }
 },
 "nbformat": 4,
 "nbformat_minor": 2
}
